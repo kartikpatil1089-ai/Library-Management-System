{
 "cells": [
  {
   "cell_type": "code",
   "execution_count": null,
   "id": "ba017aac-b85a-4c3c-bd90-d2c6ab0d6ed0",
   "metadata": {},
   "outputs": [],
   "source": []
  }
 ],
 "metadata": {
  "kernelspec": {
   "display_name": "",
   "name": ""
  },
  "language_info": {
   "name": ""
  }
 },
 "nbformat": 4,
 "nbformat_minor": 5
}
